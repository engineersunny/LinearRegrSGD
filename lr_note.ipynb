{
 "cells": [
  {
   "cell_type": "code",
   "execution_count": 54,
   "metadata": {},
   "outputs": [],
   "source": [
    "import numpy as np\n",
    "from simple_linear_regr_utils import generate_data, evaluate\n",
    "import pandas as pd\n",
    "\n",
    "class SimpleLinearRegression:\n",
    "    def __init__(self, iterations=1500, lr=0.3):\n",
    "        self.iterations = iterations # number of iterations the fit method will be called\n",
    "        self.lr = lr # The learning rate\n",
    "        self.losses = [] # A list to hold the history of the calculated losses\n",
    "        self.W, self.b = None, None # the slope and the intercept of the model\n",
    "\n",
    "        \n",
    "    def __loss(self, y, y_hat):\n",
    "        #calculate the loss. use the sum of squared error formula for simplicity\n",
    "        #MSE: https://en.wikipedia.org/wiki/Mean_squared_error\n",
    "        loss = None    \n",
    "        \n",
    "        sum = 0\n",
    "        n = len(y)\n",
    "\n",
    "        for i in range(0, n):        \n",
    "            squared_diff = (y[i]-y_hat[i])**2\n",
    "            sum = sum + squared_diff\n",
    "\n",
    "        mse = sum/n\n",
    "        loss = mse\n",
    "\n",
    "        self.losses.append(loss)\n",
    "    \n",
    "        return loss\n",
    "\n",
    "\n",
    "    def __init_weights(self, X):\n",
    "        \"\"\"\n",
    "\n",
    "        :param X: The training set\n",
    "        \"\"\"\n",
    "        weights = np.random.normal(size=X.shape[1] + 1)\n",
    "        self.W = weights[:X.shape[1]].reshape(-1, X.shape[1])\n",
    "        self.b = weights[-1]\n",
    "        \n",
    "        print(\"init shape\\nself.W: \", self.W.shape)\n",
    "        print(\"self.b \", self.b.shape)\n",
    "\n",
    "        \n",
    "    def __sgd(self, X, y, y_hat, k=10): \n",
    "        \"\"\"\n",
    "        :param X: The training set\n",
    "        :param y: The actual output on the training set\n",
    "        :param y_hat: The predicted output on the training set\n",
    "        :return:\n",
    "            sets updated W and b to the instance Object (self)\n",
    "        \"\"\"\n",
    "        #combine x and y to sample k data points e.g. k=10 || 422,1 -> 10,1\n",
    "        #todo: sampling x and y separate with seed\n",
    "        train_data=pd.DataFrame(X)\n",
    "        train_data['target']=y\n",
    "        train_data.head(3)        \n",
    "        temp=train_data.sample(k)\n",
    "        \n",
    "        y_k=np.array(temp['target'])\n",
    "        x_k=np.array(temp.drop('target',axis=1))\n",
    "        \n",
    "        dW = np.zeros(shape=(1,1))        \n",
    "        db = 0\n",
    "        \n",
    "        # Calculating gradients for k points\n",
    "        for i in range(k):\n",
    "            y_hat_k = self.predict(x_k[i])\n",
    "\n",
    "            dW = dW + (-2)*x_k[i]*(y_k[i]-y_hat_k)\n",
    "            db = db + (-2)*(y_k[i]-y_hat_k)\n",
    "\n",
    "        #  ToDO update the self.W and self.b using the learning rate and the values for dW and db\n",
    "        # Updating W,b each iteration\n",
    "        self.W = self.W - self.lr * (dW/k)\n",
    "        self.b = self.b - self.lr * (db/k)\n",
    "        \n",
    "        \n",
    "    def fit(self, X, y):\n",
    "        \"\"\"\n",
    "        :param X: The training set\n",
    "        :param y: The true output of the training set\n",
    "        :return:\n",
    "        \"\"\"\n",
    "        self.__init_weights(X)\n",
    "        y_hat = self.predict(X)\n",
    "        loss = self.__loss(y, y_hat)\n",
    "        print(f\"Initial Loss: {loss}\")\n",
    "        \n",
    "        for i in range(self.iterations + 1):\n",
    "            \n",
    "            self.__sgd(X, y, y_hat) ## Updates self.W, self.b   \n",
    "            \n",
    "            y_hat = self.predict(X)            \n",
    "            loss = self.__loss(y, y_hat)\n",
    "            \n",
    "            if not i % 5000:\n",
    "                print(f\"Iteration {i}, Loss: {loss}\")\n",
    "\n",
    "                \n",
    "                \n",
    "    def predict(self, X):\n",
    "        \"\"\"\n",
    "        :param X: The training dataset\n",
    "        :return:\n",
    "            y_hat: the predicted output\n",
    "        \"\"\"\n",
    "        y_hat = np.dot(X,self.W) + self.b\n",
    "        \n",
    "        return y_hat\n"
   ]
  },
  {
   "cell_type": "code",
   "execution_count": 12,
   "metadata": {},
   "outputs": [
    {
     "data": {
      "text/plain": [
       "array([], shape=(0, 0), dtype=float64)"
      ]
     },
     "execution_count": 12,
     "metadata": {},
     "output_type": "execute_result"
    }
   ],
   "source": []
  },
  {
   "cell_type": "code",
   "execution_count": 55,
   "metadata": {},
   "outputs": [
    {
     "name": "stdout",
     "output_type": "stream",
     "text": [
      "# Training Samples: 422; # Test samples: 20;\n",
      "init shape\n",
      "self.W:  (1, 1)\n",
      "self.b  ()\n",
      "Initial Loss: [29081.6035604]\n",
      "Iteration 0, Loss: [28154.45386936]\n",
      "Iteration 10000, Loss: [4760.23918135]\n",
      "Iteration 20000, Loss: [4283.95476497]\n",
      "Iteration 30000, Loss: [4090.77777663]\n",
      "Iteration 40000, Loss: [4008.90821886]\n",
      "Iteration 50000, Loss: [3977.64946938]\n",
      "Iteration 60000, Loss: [3965.43224472]\n",
      "Slope: [[888.01404773]]; Intercept: [155.13543573]\n",
      "Mean squared error: 2693.97\n",
      "Coefficient of determination: 0.44\n"
     ]
    },
    {
     "data": {
      "image/png": "[encoded data removed]",
      "text/plain": [
       "<Figure size 640x480 with 1 Axes>"
      ]
     },
     "metadata": {},
     "output_type": "display_data"
    },
    {
     "name": "stdout",
     "output_type": "stream",
     "text": [
      "****** Success ******\n"
     ]
    }
   ],
   "source": [
    "X_train, y_train, X_test, y_test = generate_data()\n",
    "model = SimpleLinearRegression()\n",
    "\n",
    "model.iterations = 65000\n",
    "model.lr=0.01\n",
    "\n",
    "model.fit(X_train,y_train)\n",
    "\n",
    "predicted = model.predict(X_test)\n",
    "evaluate(model, X_test, y_test, predicted)"
   ]
  },
  {
   "cell_type": "code",
   "execution_count": 52,
   "metadata": {},
   "outputs": [
    {
     "data": {
      "text/plain": [
       "True"
      ]
     },
     "execution_count": 52,
     "metadata": {},
     "output_type": "execute_result"
    }
   ],
   "source": [
    "# save params\n",
    "\n",
    "import pickle\n",
    "\n",
    "res = True\n",
    "try:\n",
    "    with open('file_w.pickle', 'wb') as handle:\n",
    "        pickle.dump(model.W, handle, protocol=pickle.HIGHEST_PROTOCOL)\n",
    "\n",
    "    with open('file_b.pickle', 'wb') as handle:\n",
    "        pickle.dump(model.b, handle, protocol=pickle.HIGHEST_PROTOCOL)\n",
    "\n",
    "except Exception as err:\n",
    "    res = False\n",
    "    \n",
    "res"
   ]
  }
 ],
 "metadata": {
  "kernelspec": {
   "display_name": "Python 3 (ipykernel)",
   "language": "python",
   "name": "python3"
  },
  "language_info": {
   "codemirror_mode": {
    "name": "ipython",
    "version": 3
   },
   "file_extension": ".py",
   "mimetype": "text/x-python",
   "name": "python",
   "nbconvert_exporter": "python",
   "pygments_lexer": "ipython3",
   "version": "3.10.6"
  }
 },
 "nbformat": 4,
 "nbformat_minor": 2
}
